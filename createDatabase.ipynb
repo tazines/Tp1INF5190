{
 "cells": [
  {
   "cell_type": "markdown",
   "source": [
    "## creation dataBase\n"
   ],
   "metadata": {
    "collapsed": false
   }
  },
  {
   "cell_type": "code",
   "execution_count": 20,
   "outputs": [],
   "source": [
    "import sqlite3\n",
    "conn = sqlite3.connect('db/database')"
   ],
   "metadata": {
    "collapsed": false
   }
  },
  {
   "cell_type": "code",
   "execution_count": 21,
   "outputs": [],
   "source": [
    "c = conn.cursor()"
   ],
   "metadata": {
    "collapsed": false
   }
  },
  {
   "cell_type": "code",
   "execution_count": 16,
   "outputs": [
    {
     "data": {
      "text/plain": "<sqlite3.Cursor at 0x10dd458c0>"
     },
     "execution_count": 16,
     "metadata": {},
     "output_type": "execute_result"
    }
   ],
   "source": [
    "c.execute('''\n",
    "          create table if not exists article (\n",
    "  id integer primary key,\n",
    "  titre varchar(100),\n",
    "  identifiant varchar(50),\n",
    "  auteur varchar(100),\n",
    "  date_publication text,\n",
    "  paragraphe varchar(500)\n",
    ");\n",
    "          ''')"
   ],
   "metadata": {
    "collapsed": false
   }
  },
  {
   "cell_type": "code",
   "execution_count": 23,
   "outputs": [],
   "source": [
    "c.execute('''INSERT INTO article (id, titre, identifiant, auteur, date_publication, paragraphe) VALUES ({},{},{},{},{},{})'''.format(2,'\"bye\"','\"2\"','\"fracoise\"','\"20230216\"','\"bonjour moi c Inesss\"'))\n",
    "conn.commit()\n",
    "c.execute('''INSERT INTO article (id, titre, identifiant, auteur, date_publication, paragraphe) VALUES ({},{},{},{},{},{})'''.format(1,'\"Alloo\"','\"1\"','\"hafida\"','\"20230218\"','\"bonjour moi c Inesss\"'))\n",
    "conn.commit()\n",
    "c.execute('''INSERT INTO article (id, titre, identifiant, auteur, date_publication, paragraphe) VALUES ({},{},{},{},{},{})'''.format(3,'\"chao\"','\"3\"','\"fracos\"','\"20230219\"','\"bonjour moi c Inesss\"'))\n",
    "conn.commit()\n",
    "c.execute('''INSERT INTO article (id, titre, identifiant, auteur, date_publication, paragraphe) VALUES ({},{},{},{},{},{})'''.format(4,'\"salam\"','\"4\"','\"hafid\"','\"20230220\"','\"bonjour moi c Inesss\"'))\n",
    "conn.commit()"
   ],
   "metadata": {
    "collapsed": false
   }
  },
  {
   "cell_type": "code",
   "execution_count": 26,
   "outputs": [
    {
     "data": {
      "text/plain": "<sqlite3.Cursor at 0x1121d61c0>"
     },
     "execution_count": 26,
     "metadata": {},
     "output_type": "execute_result"
    }
   ],
   "source": [
    "c.execute(\"SELECT titre,identifiant,date_publication FROM article ORDER BY date_publication DESC LIMIT 5\")"
   ],
   "metadata": {
    "collapsed": false
   }
  },
  {
   "cell_type": "code",
   "execution_count": 17,
   "outputs": [],
   "source": [
    "conn.commit()"
   ],
   "metadata": {
    "collapsed": false
   }
  },
  {
   "cell_type": "code",
   "execution_count": 27,
   "outputs": [
    {
     "data": {
      "text/plain": "[('salam', '4', '20230220'),\n ('chao', '3', '20230219'),\n ('Alloo', '1', '20230218'),\n ('bijouur', '0', '20230217'),\n ('bye', '2', '20230216')]"
     },
     "execution_count": 27,
     "metadata": {},
     "output_type": "execute_result"
    }
   ],
   "source": [
    "c.fetchall()"
   ],
   "metadata": {
    "collapsed": false
   }
  },
  {
   "cell_type": "code",
   "execution_count": 28,
   "outputs": [
    {
     "data": {
      "text/plain": "<sqlite3.Cursor at 0x1121d61c0>"
     },
     "execution_count": 28,
     "metadata": {},
     "output_type": "execute_result"
    }
   ],
   "source": [
    "c.execute(\"SELECT titre,identifiant,date_publication FROM article WHERE titre LIKE {} ORDER BY date_publication DESC LIMIT 5\".format('\"%'+\"lam\"+'%\"'))"
   ],
   "metadata": {
    "collapsed": false
   }
  },
  {
   "cell_type": "code",
   "execution_count": 29,
   "outputs": [
    {
     "data": {
      "text/plain": "[('salam', '4', '20230220')]"
     },
     "execution_count": 29,
     "metadata": {},
     "output_type": "execute_result"
    }
   ],
   "source": [
    "c.fetchall()"
   ],
   "metadata": {
    "collapsed": false
   }
  },
  {
   "cell_type": "code",
   "execution_count": 30,
   "outputs": [
    {
     "data": {
      "text/plain": "<sqlite3.Cursor at 0x1121d61c0>"
     },
     "execution_count": 30,
     "metadata": {},
     "output_type": "execute_result"
    }
   ],
   "source": [
    "c.execute('SELECT titre,identifiant,date_publication FROM article WHERE identifiant = \"9\"')"
   ],
   "metadata": {
    "collapsed": false
   }
  },
  {
   "cell_type": "code",
   "execution_count": 31,
   "outputs": [
    {
     "data": {
      "text/plain": "[]"
     },
     "execution_count": 31,
     "metadata": {},
     "output_type": "execute_result"
    }
   ],
   "source": [
    "c.fetchall()"
   ],
   "metadata": {
    "collapsed": false
   }
  },
  {
   "cell_type": "code",
   "execution_count": 32,
   "outputs": [],
   "source": [
    "c.execute('UPDATE article SET titre = \"'+\"c le titre\"+'\", paragraphe = \"'+\"c le paragraphe\"+'\" WHERE identifiant = \"'+\"0\"+'\"')\n",
    "conn.commit()"
   ],
   "metadata": {
    "collapsed": false
   }
  },
  {
   "cell_type": "code",
   "execution_count": 33,
   "outputs": [
    {
     "data": {
      "text/plain": "[(0, 'c le titre', '0', 'ines', '20230217', 'c le paragraphe'),\n (1, 'Alloo', '1', 'hafida', '20230218', 'bonjour moi c Inesss'),\n (2, 'bye', '2', 'fracoise', '20230216', 'bonjour moi c Inesss'),\n (3, 'chao', '3', 'fracos', '20230219', 'bonjour moi c Inesss'),\n (4, 'salam', '4', 'hafid', '20230220', 'bonjour moi c Inesss')]"
     },
     "execution_count": 33,
     "metadata": {},
     "output_type": "execute_result"
    }
   ],
   "source": [
    "c.execute('SELECT * FROM article')\n",
    "c.fetchall()"
   ],
   "metadata": {
    "collapsed": false
   }
  },
  {
   "cell_type": "code",
   "execution_count": 35,
   "outputs": [
    {
     "data": {
      "text/plain": "4"
     },
     "execution_count": 35,
     "metadata": {},
     "output_type": "execute_result"
    }
   ],
   "source": [
    "c.execute('SELECT max(id) FROM article')\n",
    "c.fetchall()[0][0]"
   ],
   "metadata": {
    "collapsed": false
   }
  },
  {
   "cell_type": "code",
   "execution_count": 36,
   "outputs": [
    {
     "data": {
      "text/plain": "[(0, 'exemple1', '0', 'ines', '20230217', 'c le paragraphe '),\n (1, 'exemple2', '1', 'hafida', '20230218', 'Paragraphe2'),\n (2, 'exemple3', '2', 'fracoise', '20230216', 'paragraphe3'),\n (3, 'exemple 4', '3', 'fracos', '20230219', 'paragraphe 4'),\n (4, 'exemple 5', '4', 'hafid', '20230220', 'paragraphe 5'),\n (5, 'exemple 6', '5', 'rfggbt', 'uefhuifeihu', 'paragraphe 6')]"
     },
     "execution_count": 36,
     "metadata": {},
     "output_type": "execute_result"
    }
   ],
   "source": [
    "c.execute('SELECT * FROM article')\n",
    "c.fetchall()"
   ],
   "metadata": {
    "collapsed": false
   }
  },
  {
   "cell_type": "code",
   "execution_count": 37,
   "outputs": [
    {
     "data": {
      "text/plain": "<sqlite3.Cursor at 0x1121d61c0>"
     },
     "execution_count": 37,
     "metadata": {},
     "output_type": "execute_result"
    }
   ],
   "source": [
    "c.execute('''\n",
    "          create table if not exists article (\n",
    "  id integer primary key,\n",
    "  titre varchar(100),\n",
    "  identifiant varchar(50),\n",
    "  auteur varchar(100),\n",
    "  date_publication text,\n",
    "  paragraphe varchar(500)\n",
    ");\n",
    "          ''')\n"
   ],
   "metadata": {
    "collapsed": false
   }
  },
  {
   "cell_type": "code",
   "execution_count": 39,
   "outputs": [
    {
     "data": {
      "text/plain": "[]"
     },
     "execution_count": 39,
     "metadata": {},
     "output_type": "execute_result"
    }
   ],
   "source": [
    "c.execute('''INSERT OR IGNORE INTO article (id, titre, identifiant, auteur, date_publication, paragraphe) VALUES ({},{},{},{},{},{})'''.format(0,'\"Exemple 1\"','\"0\"','\"Ines\"','\"20230303\"','\"test paragraphe\"'))\n",
    "conn.commit()\n",
    "c.fetchall()"
   ],
   "metadata": {
    "collapsed": false
   }
  },
  {
   "cell_type": "code",
   "execution_count": 40,
   "outputs": [
    {
     "data": {
      "text/plain": "[]"
     },
     "execution_count": 40,
     "metadata": {},
     "output_type": "execute_result"
    }
   ],
   "source": [
    "c.fetchall()\n"
   ],
   "metadata": {
    "collapsed": false
   }
  },
  {
   "cell_type": "code",
   "execution_count": 42,
   "outputs": [
    {
     "ename": "OperationalError",
     "evalue": "attempt to write a readonly database",
     "output_type": "error",
     "traceback": [
      "\u001B[0;31m---------------------------------------------------------------------------\u001B[0m",
      "\u001B[0;31mOperationalError\u001B[0m                          Traceback (most recent call last)",
      "Cell \u001B[0;32mIn[42], line 1\u001B[0m\n\u001B[0;32m----> 1\u001B[0m \u001B[43mc\u001B[49m\u001B[38;5;241;43m.\u001B[39;49m\u001B[43mexecute\u001B[49m\u001B[43m(\u001B[49m\u001B[38;5;124;43m\"\"\"\u001B[39;49m\u001B[38;5;124;43mINSERT or REPLACE INTO article (id, titre, identifiant, auteur, date_publication, paragraphe) VALUES (\u001B[39;49m\u001B[38;5;132;43;01m{}\u001B[39;49;00m\u001B[38;5;124;43m,\u001B[39;49m\u001B[38;5;132;43;01m{}\u001B[39;49;00m\u001B[38;5;124;43m,\u001B[39;49m\u001B[38;5;132;43;01m{}\u001B[39;49;00m\u001B[38;5;124;43m,\u001B[39;49m\u001B[38;5;132;43;01m{}\u001B[39;49;00m\u001B[38;5;124;43m,\u001B[39;49m\u001B[38;5;132;43;01m{}\u001B[39;49;00m\u001B[38;5;124;43m,\u001B[39;49m\u001B[38;5;132;43;01m{}\u001B[39;49;00m\u001B[38;5;124;43m)\u001B[39;49m\u001B[38;5;124;43m\"\"\"\u001B[39;49m\u001B[38;5;241;43m.\u001B[39;49m\u001B[43mformat\u001B[49m\u001B[43m(\u001B[49m\n\u001B[1;32m      2\u001B[0m \u001B[43m            \u001B[49m\u001B[38;5;241;43m0\u001B[39;49m\u001B[43m,\u001B[49m\u001B[43m \u001B[49m\u001B[38;5;124;43m'\u001B[39;49m\u001B[38;5;124;43m\"\u001B[39;49m\u001B[38;5;124;43m'\u001B[39;49m\u001B[38;5;241;43m+\u001B[39;49m\u001B[38;5;124;43m\"\u001B[39;49m\u001B[38;5;124;43mExemple\u001B[39;49m\u001B[38;5;124;43m\"\u001B[39;49m\u001B[38;5;241;43m+\u001B[39;49m\u001B[38;5;124;43m'\u001B[39;49m\u001B[38;5;124;43m\"\u001B[39;49m\u001B[38;5;124;43m'\u001B[39;49m\u001B[43m,\u001B[49m\u001B[43m \u001B[49m\u001B[38;5;124;43m'\u001B[39;49m\u001B[38;5;124;43m\"\u001B[39;49m\u001B[38;5;124;43m'\u001B[39;49m\u001B[38;5;241;43m+\u001B[39;49m\u001B[38;5;124;43m\"\u001B[39;49m\u001B[38;5;124;43m0\u001B[39;49m\u001B[38;5;124;43m\"\u001B[39;49m\u001B[38;5;241;43m+\u001B[39;49m\u001B[38;5;124;43m'\u001B[39;49m\u001B[38;5;124;43m\"\u001B[39;49m\u001B[38;5;124;43m'\u001B[39;49m\u001B[43m,\u001B[49m\u001B[43m \u001B[49m\u001B[38;5;124;43m'\u001B[39;49m\u001B[38;5;124;43m\"\u001B[39;49m\u001B[38;5;124;43m'\u001B[39;49m\u001B[38;5;241;43m+\u001B[39;49m\u001B[38;5;124;43m\"\u001B[39;49m\u001B[38;5;124;43mInes\u001B[39;49m\u001B[38;5;124;43m\"\u001B[39;49m\u001B[38;5;241;43m+\u001B[39;49m\u001B[38;5;124;43m'\u001B[39;49m\u001B[38;5;124;43m\"\u001B[39;49m\u001B[38;5;124;43m'\u001B[39;49m\u001B[43m,\u001B[49m\u001B[43m \u001B[49m\u001B[38;5;124;43m'\u001B[39;49m\u001B[38;5;124;43m\"\u001B[39;49m\u001B[38;5;124;43m'\u001B[39;49m\u001B[38;5;241;43m+\u001B[39;49m\u001B[38;5;124;43m\"\u001B[39;49m\u001B[38;5;124;43m20230303\u001B[39;49m\u001B[38;5;124;43m\"\u001B[39;49m\u001B[38;5;241;43m+\u001B[39;49m\u001B[38;5;124;43m'\u001B[39;49m\u001B[38;5;124;43m\"\u001B[39;49m\u001B[38;5;124;43m'\u001B[39;49m\u001B[43m,\u001B[49m\u001B[43m \u001B[49m\u001B[38;5;124;43m'\u001B[39;49m\u001B[38;5;124;43m\"\u001B[39;49m\u001B[38;5;124;43m'\u001B[39;49m\u001B[38;5;241;43m+\u001B[39;49m\u001B[38;5;124;43m\"\u001B[39;49m\u001B[38;5;124;43mTes de paragraphe\u001B[39;49m\u001B[38;5;124;43m\"\u001B[39;49m\u001B[38;5;241;43m+\u001B[39;49m\u001B[38;5;124;43m'\u001B[39;49m\u001B[38;5;124;43m\"\u001B[39;49m\u001B[38;5;124;43m'\u001B[39;49m\u001B[43m)\u001B[49m\u001B[43m)\u001B[49m\n\u001B[1;32m      3\u001B[0m c\u001B[38;5;241m.\u001B[39mfetchall()\n",
      "\u001B[0;31mOperationalError\u001B[0m: attempt to write a readonly database"
     ]
    }
   ],
   "source": [
    "c.execute(\"\"\"INSERT or REPLACE INTO article (id, titre, identifiant, auteur, date_publication, paragraphe) VALUES ({},{},{},{},{},{})\"\"\".format(\n",
    "            0, '\"'+\"Exemple\"+'\"', '\"'+\"0\"+'\"', '\"'+\"Ines\"+'\"', '\"'+\"20230303\"+'\"', '\"'+\"Tes de paragraphe\"+'\"'))\n",
    "c.fetchall()"
   ],
   "metadata": {
    "collapsed": false
   }
  },
  {
   "cell_type": "code",
   "execution_count": null,
   "outputs": [],
   "source": [],
   "metadata": {
    "collapsed": false
   }
  }
 ],
 "metadata": {
  "kernelspec": {
   "display_name": "Python 3",
   "language": "python",
   "name": "python3"
  },
  "language_info": {
   "codemirror_mode": {
    "name": "ipython",
    "version": 2
   },
   "file_extension": ".py",
   "mimetype": "text/x-python",
   "name": "python",
   "nbconvert_exporter": "python",
   "pygments_lexer": "ipython2",
   "version": "2.7.6"
  }
 },
 "nbformat": 4,
 "nbformat_minor": 0
}
